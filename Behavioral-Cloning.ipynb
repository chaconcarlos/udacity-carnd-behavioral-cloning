{
 "cells": [
  {
   "cell_type": "markdown",
   "metadata": {},
   "source": [
    "# **Behavioral Cloning Project**\n",
    "\n",
    "The goals / steps of this project are the following:\n",
    "* Use the simulator to collect data of good driving behavior\n",
    "* Build, a convolution neural network in Keras that predicts steering angles from images\n",
    "* Train and validate the model with a training and validation set\n",
    "* Test that the model successfully drives around track one without leaving the road\n",
    "* Summarize the results with a written report\n",
    "\n",
    "## Rubric Points\n",
    "###Here I will consider the [rubric points](https://review.udacity.com/#!/rubrics/432/view) individually and describe how I addressed each point in my implementation.  \n",
    "\n",
    "---\n",
    "### Files Submitted & Code Quality\n",
    "\n",
    "#### 1. Submission includes all required files and can be used to run the simulator in autonomous mode\n",
    "\n",
    "My project includes the following files:\n",
    "* model.py containing the script to create and train the model\n",
    "* drive.py for driving the car in autonomous mode\n",
    "* model.h5 containing a trained convolution neural network \n",
    "* README.md summarizing the results\n",
    "\n",
    "#### 2. Submission includes functional code\n",
    "\n",
    "The model stored on model.h5 can be used to drive the car on the simulator track by executing:\n",
    "\n",
    "```sh\n",
    "python drive.py model.h5\n",
    "```\n",
    "\n",
    "#### 3. Submission code is usable and readable\n",
    "\n",
    "The data_load.py file contains the code for training and saving the convolution neural network. The file shows the pipeline I used for training and validating the model, and it contains comments to explain how the code works.\n",
    "\n",
    "### Model Architecture and Training Strategy\n",
    "\n",
    "#### 1. An appropriate model architecture has been employed\n",
    "\n",
    "My starting point was the architecture describe in the NVIDIA paper [\"End to End Learning for Self-Driving Cars\"](http://images.nvidia.com/content/tegra/automotive/images/2016/solutions/pdf/end-to-end-dl-using-px.pdf). I added a layer that normalizes the data between 0 - 1, added max pooling to the convolutional layers, and made use of an Exponential Linear Unit (ELU) activation, that is a faster alternative to RELU (https://arxiv.org/pdf/1511.07289v1.pdf).\n",
    "\n",
    "The final architecture looks like this: \n",
    "\n",
    "|               Layer Type               |     Ouput Shape      |\n",
    "|:--------------------------------------:|:--------------------:|\n",
    "| Lambda (Normalizes image values range) |  (None, 65, 320, 3)  |\n",
    "| Convolution 2D, Filters: 1, 1x1        |  (None, 65, 320, 1)  |\n",
    "| Convolution 2D, Filters: 3, 5x5        |  (None, 61, 316, 3)  |\n",
    "| ELU Activation                         |  (None, 61, 316, 3)  |\n",
    "| Max Pooling, 2x2                       |  (None, 30, 158, 3)  |\n",
    "| Convolution 2D, Filters: 24, 5x5       |  (None, 26, 154, 24) |\n",
    "| ELU Activation                         |  (None, 26, 154, 24) |\n",
    "| Max Pooling, 2x2                       |  (None, 13, 77, 24)  |\n",
    "| Convolution 2D, Filters: 36, 5x5       |  (None, 9, 73, 36)   |\n",
    "| ELU Activation                         |  (None, 9, 73, 36)   |\n",
    "| Max Pooling, 2x2                       |  (None, 4, 36, 36)   |\n",
    "| Convolution 2D, Filters: 48, 3x3       |  (None, 2, 34, 48)   |\n",
    "| ELU Activation                         |  (None, 2, 34, 48)   |\n",
    "| Max Pooling, 2x2                       |  (None, 1, 17, 48)   |\n",
    "| Flatten                                |  (None, 816)         |\n",
    "| Fully Connected 1                      |  (None, 1164)        |\n",
    "| ELU Activation                         |  (None, 1164)        |\n",
    "| Fully Connected 2                      |  (None, 100)         |\n",
    "| ELU Activation                         |  (None, 100)         |\n",
    "| Fully Connected 3                      |  (None, 50)          |\n",
    "| ELU Activation                         |  (None, 50)          |\n",
    "| Fully Connected 4                      |  (None, 10)          |\n",
    "| ELU Activation                         |  (None, 10)          |\n",
    "| Fully Connected 5                      |  (None, 1)           |\n",
    "\n",
    "The idea for the convolution 2D (1, 1x1) in the second layer, was inspired by [Teaching a car to drive itself](https://chatbotslife.com/teaching-a-car-to-drive-himself-e9a2966571c5)."
   ]
  },
  {
   "cell_type": "markdown",
   "metadata": {},
   "source": [
    "#### 2. Attempts to reduce overfitting in the model\n",
    "\n",
    "* To reduce overfitting the model, I made a couple of tests with a subset of the data, and find out that the loss reached a low point in the epochs 7 to 9. I set the model training to 7 epochs.\n",
    "\n",
    "* To prevent noise that could confuse the model, I cropped the image at the top and the bottom, to eliminate the part of the sky and also the hood of the car. \n",
    "\n",
    "* The data was also normalizes to a range between 0 and 1.\n",
    "\n",
    "#### 3. Model parameter tuning\n",
    "\n",
    "The model used an adam optimizer, so the learning rate was not tuned manually (data_load.py line 166).\n",
    "\n",
    "#### 4. Appropriate training data\n",
    "\n",
    "I drove the simulator counterclockwise 4 to 5 times, always trying to keep the center of the road. Then, I did the same in the inverse way. I identified some spots that could be difficult for the model to learn, for example the first curve after the stone bridge on the counterclockwise way, another sharp turn after this one, and the sand spot in the finishing line of the track. I did some recordings recovering from those spots, so the model could recover from them if it's necesary.\n",
    "\n",
    "I also did a couple of runs swerving a little, to try to teach the model to recover. I'm not completely sure of the effects of this runs. \n",
    "\n",
    "The final data set had 44,553 images, that were the product of driving on the simulator, using a mouse. The load of the dataset is implemented by the method **load_data** in the file data_load.py.\n",
    "\n",
    "The data was preprocessed, first removing the parts of the sky and trees (by cropping 70 pixels from the top, and 25 from the bottom) and then normalized to a range between 0 and 1. The cropping is done on the function **load_data_entry** on the line 75, and the normalization is done as part of the Keras model, using the Lambda object, on line 128:"
   ]
  },
  {
   "cell_type": "code",
   "execution_count": null,
   "metadata": {
    "collapsed": true
   },
   "outputs": [],
   "source": [
    "model.add(Lambda(lambda x: (x / 255.0) - 0.5, input_shape = image_shape))"
   ]
  },
  {
   "cell_type": "markdown",
   "metadata": {},
   "source": [
    "Also, a compensation was done on the images from the side of the car, adding 0.1 of steering correction to the center steering angle in case of the left side, and subtracting the same amount to correct the angle in the right side.\n",
    "\n",
    "The loss at the end of the training for 7 epochs was: \n",
    "\n",
    "* Training loss: 0.0086\n",
    "* Validation loss: 0.0118"
   ]
  },
  {
   "cell_type": "markdown",
   "metadata": {},
   "source": [
    "![alt text](./data_final.png \"Model Mean Squared Error Loss\")\n"
   ]
  },
  {
   "cell_type": "markdown",
   "metadata": {},
   "source": [
    "#### 5. Video\n",
    "The video of the run is on https://youtu.be/v6cyFiwF_ew.\n",
    "Also, the video from the car perspective is on: https://youtu.be/w_QkeCXOfHc\n",
    "\n",
    "#### 6. Improvements\n",
    "\n",
    "To improve the results I got with this model, I think I could have designed the network with some minor tweaks. For example, use a dropout layer. \n",
    "\n",
    "I didn't flip the images, or use any data augmentation at all. I'm not sure if adding more data, with a training loss of 0.086 would be efective.\n",
    "\n",
    "The use of the other data from the simulator (throttle, brakes) to train the model, and use this output can help get a more precise driving in the simulator. "
   ]
  },
  {
   "cell_type": "code",
   "execution_count": null,
   "metadata": {
    "collapsed": true
   },
   "outputs": [],
   "source": []
  }
 ],
 "metadata": {
  "kernelspec": {
   "display_name": "Python 3",
   "language": "python",
   "name": "python3"
  },
  "language_info": {
   "codemirror_mode": {
    "name": "ipython",
    "version": 3
   },
   "file_extension": ".py",
   "mimetype": "text/x-python",
   "name": "python",
   "nbconvert_exporter": "python",
   "pygments_lexer": "ipython3",
   "version": "3.5.2"
  },
  "widgets": {
   "state": {},
   "version": "1.1.2"
  }
 },
 "nbformat": 4,
 "nbformat_minor": 2
}
